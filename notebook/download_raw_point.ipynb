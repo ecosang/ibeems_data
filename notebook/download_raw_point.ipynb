{
 "cells": [
  {
   "cell_type": "code",
   "execution_count": 1,
   "metadata": {},
   "outputs": [],
   "source": [
    "\n",
    "import os\n",
    "import pandas as pd\n",
    "import sys\n",
    "\n",
    "import pathlib\n"
   ]
  },
  {
   "cell_type": "code",
   "execution_count": 2,
   "metadata": {},
   "outputs": [],
   "source": [
    "repo_path=\"C:\\\\Users\\\\srg_minitower\\\\ibeems_data\"\n",
    "\n",
    "os.chdir(repo_path)\n",
    "sys.path.insert(1,pathlib.Path(repo_path).absolute().__str__()) # repository path\n",
    "os.chdir(repo_path)\n",
    "\n",
    "from database.function_io import get_config,get_point_list\n",
    "from database.query_raw_data import raw_data_query\n",
    "from database.data_formatter import df_history_parser\n",
    "from database.database_util import get_df_history,single_query_point\n",
    "from database.function_ts import convert_to_utc"
   ]
  },
  {
   "cell_type": "code",
   "execution_count": null,
   "metadata": {},
   "outputs": [
    {
     "name": "stdout",
     "output_type": "stream",
     "text": [
      "timestamp_local is not timezone aware. It is assumed to be Asia/Seoul.\n",
      "timestamp_local is not timezone aware. It is assumed to be Asia/Seoul.\n"
     ]
    }
   ],
   "source": [
    "project_id='hdc'\n",
    "\n",
    "start_time=\"2024-01-17\"\n",
    "end_time=\"2024-01-20\"\n",
    "\n",
    "init_path = f'data/{project_id}/init.yaml'\n",
    "\n",
    "init_config = get_config(config_path=init_path, config_format=\"yaml\")\n",
    "tz = init_config['tz']\n",
    "start_time_utc = convert_to_utc(start_time, tz)\n",
    "end_time_utc = convert_to_utc(end_time, tz)\n",
    "credential = get_config(config_path=init_config['credential_path'], config_format=\"yaml\")\n",
    "\n"
   ]
  },
  {
   "cell_type": "code",
   "execution_count": 4,
   "metadata": {},
   "outputs": [],
   "source": [
    "path=\"/iot_lotte/2/DE-82/AI-1\" # AHU4_순시유량"
   ]
  },
  {
   "cell_type": "code",
   "execution_count": 5,
   "metadata": {},
   "outputs": [],
   "source": [
    "input_dict={\"path\":path,\n",
    "            \"start_time_utc\":start_time_utc,\n",
    "        \"end_time_utc\":end_time_utc,\n",
    "        \"credential\":credential,\n",
    "        \"init_config\":init_config,\n",
    "        \"query_split_days\":100}\n",
    "        #\"variable_map\":variable_map,\n",
    "        #\"zone_id\":zid}"
   ]
  },
  {
   "cell_type": "code",
   "execution_count": 6,
   "metadata": {},
   "outputs": [
    {
     "name": "stdout",
     "output_type": "stream",
     "text": [
      "start http://lottemart.iptime.org:28082/sensor/data?fromDateTime=2024-07-31T23:00:00toDateTime=2024-08-30T01:00:00&path=/iot_lotte/2/DE-82/AI-1\n",
      "1[{\"variableName\": \"ID_TO_MEANING\", \"type\": \"dictionary\", \"supportedEngines\": [\"pandas\"], \"isLocalVariable\": true}]\n",
      "\n"
     ]
    }
   ],
   "source": [
    "df=single_query_point(input_dict)"
   ]
  },
  {
   "cell_type": "code",
   "execution_count": 54,
   "metadata": {},
   "outputs": [
    {
     "data": {
      "text/plain": [
       "{'raw_df':                  timestamp_local /iot_lotte/2/DE-82/AI-1\n",
       " 0      2024-07-31 23:00:00+09:00                       0\n",
       " 1      2024-07-31 23:01:00+09:00                       0\n",
       " 2      2024-07-31 23:02:00+09:00                       0\n",
       " 3      2024-07-31 23:03:00+09:00                       0\n",
       " 4      2024-07-31 23:04:00+09:00                       0\n",
       " ...                          ...                     ...\n",
       " 138726 2024-11-05 10:28:00+09:00                 18.8819\n",
       " 138727 2024-11-05 10:29:00+09:00                 18.6259\n",
       " 138728 2024-11-05 10:30:00+09:00                 18.7101\n",
       " 138729 2024-11-05 10:31:00+09:00                 18.8132\n",
       " 138730 2024-11-05 10:32:00+09:00                 19.1309\n",
       " \n",
       " [138731 rows x 2 columns]}"
      ]
     },
     "execution_count": 54,
     "metadata": {},
     "output_type": "execute_result"
    }
   ],
   "source": [
    "df"
   ]
  },
  {
   "cell_type": "code",
   "execution_count": 46,
   "metadata": {},
   "outputs": [],
   "source": [
    "import matplotlib.pyplot as plt"
   ]
  },
  {
   "cell_type": "code",
   "execution_count": 49,
   "metadata": {},
   "outputs": [
    {
     "data": {
      "text/plain": [
       "0        2024-07-31 23:00:00+09:00\n",
       "1        2024-07-31 23:01:00+09:00\n",
       "2        2024-07-31 23:02:00+09:00\n",
       "3        2024-07-31 23:03:00+09:00\n",
       "4        2024-07-31 23:04:00+09:00\n",
       "                    ...           \n",
       "138718   2024-11-05 10:20:00+09:00\n",
       "138719   2024-11-05 10:21:00+09:00\n",
       "138720   2024-11-05 10:22:00+09:00\n",
       "138721   2024-11-05 10:23:00+09:00\n",
       "138722   2024-11-05 10:24:00+09:00\n",
       "Name: timestamp_local, Length: 138723, dtype: datetime64[ns, Asia/Seoul]"
      ]
     },
     "execution_count": 49,
     "metadata": {},
     "output_type": "execute_result"
    }
   ],
   "source": [
    "df['raw_df']['timestamp_local']"
   ]
  },
  {
   "cell_type": "code",
   "execution_count": 47,
   "metadata": {},
   "outputs": [],
   "source": [
    "value=df['raw_df'].iloc[:,1].to_numpy().astype('float')\n",
    "timeindex=pd.to_datetime(df['raw_df']['timestamp_local'])"
   ]
  },
  {
   "cell_type": "code",
   "execution_count": 48,
   "metadata": {},
   "outputs": [
    {
     "data": {
      "text/plain": [
       "<Axes: xlabel='time'>"
      ]
     },
     "execution_count": 48,
     "metadata": {},
     "output_type": "execute_result"
    },
    {
     "data": {
      "image/png": "[encoded data removed]",
      "text/plain": [
       "<Figure size 640x480 with 1 Axes>"
      ]
     },
     "metadata": {},
     "output_type": "display_data"
    }
   ],
   "source": [
    "pd.DataFrame(data={'time':timeindex,\"value\":value}).set_index('time').plot()"
   ]
  },
  {
   "cell_type": "code",
   "execution_count": null,
   "metadata": {},
   "outputs": [],
   "source": []
  },
  {
   "cell_type": "code",
   "execution_count": null,
   "metadata": {},
   "outputs": [],
   "source": []
  },
  {
   "cell_type": "code",
   "execution_count": null,
   "metadata": {},
   "outputs": [],
   "source": []
  }
 ],
 "metadata": {
  "kernelspec": {
   "display_name": "base",
   "language": "python",
   "name": "python3"
  },
  "language_info": {
   "codemirror_mode": {
    "name": "ipython",
    "version": 3
   },
   "file_extension": ".py",
   "mimetype": "text/x-python",
   "name": "python",
   "nbconvert_exporter": "python",
   "pygments_lexer": "ipython3",
   "version": "3.12.4"
  }
 },
 "nbformat": 4,
 "nbformat_minor": 2
}
