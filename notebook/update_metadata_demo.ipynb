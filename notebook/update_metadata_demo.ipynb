{
 "cells": [
  {
   "cell_type": "code",
   "execution_count": 1,
   "metadata": {},
   "outputs": [],
   "source": [
    "import os\n",
    "import pathlib\n",
    "import pandas as pd\n",
    "import numpy as np\n",
    "import sys\n",
    "sys.path.append(str(pathlib.Path(os.getcwd()).parent))"
   ]
  },
  {
   "cell_type": "code",
   "execution_count": 2,
   "metadata": {},
   "outputs": [
    {
     "name": "stdout",
     "output_type": "stream",
     "text": [
      "c:\\Users\\srg_minitower\\ibeems_data\n"
     ]
    }
   ],
   "source": [
    "\n",
    "from run.metadata_setup.update_point_list import update_point_list"
   ]
  },
  {
   "cell_type": "code",
   "execution_count": 3,
   "metadata": {},
   "outputs": [
    {
     "name": "stdout",
     "output_type": "stream",
     "text": [
      "Help on function update_point_list in module run.metadata_setup.update_point_list:\n",
      "\n",
      "update_point_list(project_id, update_path=False)\n",
      "    Update the point list for a given project.\n",
      "    \n",
      "    Args:\n",
      "        project_id (str): The ID of the project. #'lotte_mart' or 'hdc'\n",
      "        update_path (bool, optional): Whether to update the path (오브젝트경로) when there is changes in Google spreadsheet(오브젝트경로). Defaults to False.\n",
      "    \n",
      "    Description:\n",
      "        - This function reads the raw metadata from the Google spreadsheet (credential['metadata_rawdata_path']) and creates a metadata file for each sheet name in the init_config file.\n",
      "        - The metadata file is saved as {sheet_name}.csv in the data/project_id folder.\n",
      "        - If update_path is True, the function will update the file by running the code again after updating the Google spreadsheet.\n",
      "        \n",
      "    Returns:\n",
      "        None\n",
      "\n"
     ]
    }
   ],
   "source": [
    "help(update_point_list)"
   ]
  },
  {
   "cell_type": "code",
   "execution_count": 4,
   "metadata": {},
   "outputs": [
    {
     "name": "stdout",
     "output_type": "stream",
     "text": [
      "hdc's MODBUS sheet is stored in data\\hdc\\MODBUS.csv.\n",
      "original columns are {'오브젝트 경로': 'path', '오브젝트ID': 'object_id', '오브젝트명': 'object_name', '비고': 'comment'}\n",
      "hdc's RESTAPI sheet is stored in data\\hdc\\RESTAPI.csv.\n",
      "original columns are {'오브젝트 경로': 'path', '오브젝트ID': 'object_id', '오브젝트명': 'object_name', '비고': 'comment'}\n"
     ]
    }
   ],
   "source": [
    "project_id=\"hdc\"\n",
    "update_path=False # when there are changes in \"path (오브젝트경로)\", put True, otherwise, just use False. Keep the previous name.\n",
    "update_point_list(project_id=project_id,update_path=update_path)\n"
   ]
  },
  {
   "cell_type": "code",
   "execution_count": null,
   "metadata": {},
   "outputs": [],
   "source": []
  }
 ],
 "metadata": {
  "kernelspec": {
   "display_name": "Python 3",
   "language": "python",
   "name": "python3"
  },
  "language_info": {
   "codemirror_mode": {
    "name": "ipython",
    "version": 3
   },
   "file_extension": ".py",
   "mimetype": "text/x-python",
   "name": "python",
   "nbconvert_exporter": "python",
   "pygments_lexer": "ipython3",
   "version": "3.11.4"
  }
 },
 "nbformat": 4,
 "nbformat_minor": 2
}
